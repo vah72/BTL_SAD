{
 "cells": [
  {
   "cell_type": "markdown",
   "id": "d2e941e2",
   "metadata": {},
   "source": [
    "### Loading the data"
   ]
  },
  {
   "cell_type": "code",
   "execution_count": 24,
   "id": "9068dc96",
   "metadata": {},
   "outputs": [
    {
     "name": "stdout",
     "output_type": "stream",
     "text": [
      "<class 'pandas.core.frame.DataFrame'>\n",
      "RangeIndex: 8068 entries, 0 to 8067\n",
      "Data columns (total 11 columns):\n",
      " #   Column           Non-Null Count  Dtype  \n",
      "---  ------           --------------  -----  \n",
      " 0   ID               8068 non-null   int64  \n",
      " 1   Gender           8068 non-null   object \n",
      " 2   Ever_Married     7928 non-null   object \n",
      " 3   Age              8068 non-null   int64  \n",
      " 4   Graduated        7990 non-null   object \n",
      " 5   Profession       7944 non-null   object \n",
      " 6   Work_Experience  7239 non-null   float64\n",
      " 7   Spending_Score   8068 non-null   object \n",
      " 8   Family_Size      7733 non-null   float64\n",
      " 9   Var_1            7992 non-null   object \n",
      " 10  Segmentation     8068 non-null   object \n",
      "dtypes: float64(2), int64(2), object(7)\n",
      "memory usage: 693.5+ KB\n"
     ]
    },
    {
     "data": {
      "text/plain": [
       "<bound method DataFrame.info of           ID  Gender Ever_Married  Age Graduated     Profession  \\\n",
       "0     458989  Female          Yes   36       Yes       Engineer   \n",
       "1     458994    Male          Yes   37       Yes     Healthcare   \n",
       "2     458996  Female          Yes   69        No            NaN   \n",
       "3     459000    Male          Yes   59        No      Executive   \n",
       "4     459001  Female           No   19        No      Marketing   \n",
       "...      ...     ...          ...  ...       ...            ...   \n",
       "2622  467954    Male           No   29        No     Healthcare   \n",
       "2623  467958  Female           No   35       Yes         Doctor   \n",
       "2624  467960  Female           No   53       Yes  Entertainment   \n",
       "2625  467961    Male          Yes   47       Yes      Executive   \n",
       "2626  467968  Female           No   43       Yes     Healthcare   \n",
       "\n",
       "      Work_Experience Spending_Score  Family_Size  Var_1 Segmentation  \n",
       "0                 0.0            Low          1.0  Cat_6            B  \n",
       "1                 8.0        Average          4.0  Cat_6            A  \n",
       "2                 0.0            Low          1.0  Cat_6            A  \n",
       "3                11.0           High          2.0  Cat_6            B  \n",
       "4                 NaN            Low          4.0  Cat_6            A  \n",
       "...               ...            ...          ...    ...          ...  \n",
       "2622              9.0            Low          4.0  Cat_6            B  \n",
       "2623              1.0            Low          1.0  Cat_6            A  \n",
       "2624              NaN            Low          2.0  Cat_6            C  \n",
       "2625              1.0           High          5.0  Cat_4            C  \n",
       "2626              9.0            Low          3.0  Cat_7            A  \n",
       "\n",
       "[2627 rows x 11 columns]>"
      ]
     },
     "execution_count": 24,
     "metadata": {},
     "output_type": "execute_result"
    }
   ],
   "source": [
    "import pandas as pd\n",
    "\n",
    "train = pd.read_csv('Train.csv')\n",
    "test = pd.read_csv('Test.csv')\n",
    "\n",
    "train.info()\n",
    "test.info"
   ]
  },
  {
   "cell_type": "code",
   "execution_count": 25,
   "id": "b3f15e4c",
   "metadata": {},
   "outputs": [
    {
     "name": "stdout",
     "output_type": "stream",
     "text": [
      "Shape of the data train: (8068, 11)\n",
      "       ID  Gender Ever_Married  Age Graduated     Profession  Work_Experience  \\\n",
      "0  462809    Male           No   22        No     Healthcare              1.0   \n",
      "1  462643  Female          Yes   38       Yes       Engineer              NaN   \n",
      "2  466315  Female          Yes   67       Yes       Engineer              1.0   \n",
      "3  461735    Male          Yes   67       Yes         Lawyer              0.0   \n",
      "4  462669  Female          Yes   40       Yes  Entertainment              NaN   \n",
      "\n",
      "  Spending_Score  Family_Size  Var_1 Segmentation  \n",
      "0            Low          4.0  Cat_4            D  \n",
      "1        Average          3.0  Cat_4            A  \n",
      "2            Low          1.0  Cat_6            B  \n",
      "3           High          2.0  Cat_6            B  \n",
      "4           High          6.0  Cat_6            A  \n",
      "Shape of the data test: (2627, 11)\n",
      "       ID  Gender Ever_Married  Age Graduated  Profession  Work_Experience  \\\n",
      "0  458989  Female          Yes   36       Yes    Engineer              0.0   \n",
      "1  458994    Male          Yes   37       Yes  Healthcare              8.0   \n",
      "2  458996  Female          Yes   69        No         NaN              0.0   \n",
      "3  459000    Male          Yes   59        No   Executive             11.0   \n",
      "4  459001  Female           No   19        No   Marketing              NaN   \n",
      "\n",
      "  Spending_Score  Family_Size  Var_1 Segmentation  \n",
      "0            Low          1.0  Cat_6            B  \n",
      "1        Average          4.0  Cat_6            A  \n",
      "2            Low          1.0  Cat_6            A  \n",
      "3           High          2.0  Cat_6            B  \n",
      "4            Low          4.0  Cat_6            A  \n"
     ]
    }
   ],
   "source": [
    "print(\"Shape of the data train:\",train.shape)\n",
    "print(train.head(5))\n",
    "\n",
    "print(\"Shape of the data test:\",test.shape)\n",
    "print(test.head(5))"
   ]
  },
  {
   "cell_type": "markdown",
   "id": "49325e82",
   "metadata": {},
   "source": [
    "### Cleaning the data"
   ]
  },
  {
   "cell_type": "code",
   "execution_count": 26,
   "id": "4bdad4f1",
   "metadata": {},
   "outputs": [
    {
     "name": "stdout",
     "output_type": "stream",
     "text": [
      "Gender               0\n",
      "Ever_Married       140\n",
      "Age                  0\n",
      "Graduated           78\n",
      "Profession         124\n",
      "Work_Experience    829\n",
      "Spending_Score       0\n",
      "Family_Size        335\n",
      "Var_1               76\n",
      "Segmentation         0\n",
      "dtype: int64\n",
      "Gender               0\n",
      "Ever_Married        50\n",
      "Age                  0\n",
      "Graduated           24\n",
      "Profession          38\n",
      "Work_Experience    269\n",
      "Spending_Score       0\n",
      "Family_Size        113\n",
      "Var_1               32\n",
      "Segmentation         0\n",
      "dtype: int64\n"
     ]
    }
   ],
   "source": [
    "train = train.drop(\"ID\", axis = 1)\n",
    "print(train.isnull().sum())\n",
    "\n",
    "test = test.drop(\"ID\", axis = 1)\n",
    "print(test.isnull().sum())"
   ]
  },
  {
   "cell_type": "code",
   "execution_count": 27,
   "id": "8f20ac70",
   "metadata": {},
   "outputs": [
    {
     "name": "stdout",
     "output_type": "stream",
     "text": [
      "Gender             0\n",
      "Ever_Married       0\n",
      "Age                0\n",
      "Graduated          0\n",
      "Profession         0\n",
      "Work_Experience    0\n",
      "Spending_Score     0\n",
      "Family_Size        0\n",
      "Var_1              0\n",
      "Segmentation       0\n",
      "dtype: int64\n",
      "Gender             0\n",
      "Ever_Married       0\n",
      "Age                0\n",
      "Graduated          0\n",
      "Profession         0\n",
      "Work_Experience    0\n",
      "Spending_Score     0\n",
      "Family_Size        0\n",
      "Var_1              0\n",
      "Segmentation       0\n",
      "dtype: int64\n"
     ]
    }
   ],
   "source": [
    "train['Work_Experience'] = train['Work_Experience'].fillna(0)\n",
    "train = train.dropna()\n",
    "print(train.isnull().sum())\n",
    "\n",
    "test['Work_Experience'] = test['Work_Experience'].fillna(0)\n",
    "test = test.dropna()\n",
    "print(test.isnull().sum())"
   ]
  },
  {
   "cell_type": "code",
   "execution_count": 28,
   "id": "824e348c",
   "metadata": {},
   "outputs": [
    {
     "name": "stdout",
     "output_type": "stream",
     "text": [
      "486\n",
      "35\n"
     ]
    }
   ],
   "source": [
    "# Kiểm tra các hàng trùng lặp\n",
    "print(train.duplicated().sum())\n",
    "# Xóa các hàng trùng lặp và giữ lại hàng đầu tiên\n",
    "train = train.drop_duplicates(keep='first')\n",
    "\n",
    "# Kiểm tra các hàng trùng lặp\n",
    "print(test.duplicated().sum())\n",
    "# Xóa các hàng trùng lặp và giữ lại hàng đầu tiên\n",
    "test = test.drop_duplicates(keep='first')"
   ]
  },
  {
   "cell_type": "code",
   "execution_count": 29,
   "id": "a23d4d23",
   "metadata": {},
   "outputs": [
    {
     "name": "stdout",
     "output_type": "stream",
     "text": [
      "Empty DataFrame\n",
      "Columns: [Gender, Ever_Married, Age, Graduated, Profession, Work_Experience, Spending_Score, Family_Size, Var_1, Segmentation]\n",
      "Index: []\n",
      "Empty DataFrame\n",
      "Columns: [Gender, Ever_Married, Age, Graduated, Profession, Work_Experience, Spending_Score, Family_Size, Var_1, Segmentation]\n",
      "Index: []\n"
     ]
    }
   ],
   "source": [
    "# Kiểm tra các giá trị không hợp lệ trong cột 'Age'\n",
    "invalid_ages = train.loc[(train['Age'] < 18) | (train['Age'] > 100)]\n",
    "print(invalid_ages)\n",
    "# Xóa các hàng chứa giá trị không hợp lệ trong cột 'Age'\n",
    "train = train.drop(invalid_ages.index)\n",
    "\n",
    "# Kiểm tra các giá trị không hợp lệ trong cột 'Age'\n",
    "invalid_ages = test.loc[(test['Age'] < 18) | (test['Age'] > 100)]\n",
    "print(invalid_ages)\n",
    "# Xóa các hàng chứa giá trị không hợp lệ trong cột 'Age'\n",
    "test = test.drop(invalid_ages.index)"
   ]
  },
  {
   "cell_type": "code",
   "execution_count": 30,
   "id": "c963d702",
   "metadata": {},
   "outputs": [],
   "source": [
    "# from sklearn.preprocessing import MinMaxScaler\n",
    "\n",
    "# # Normalize\n",
    "# scaler = MinMaxScaler()\n",
    "# train[['Age', 'Work_Experience', 'Family_Size']] = scaler.fit_transform(train[['Age', 'Work_Experience', 'Family_Size']])"
   ]
  },
  {
   "cell_type": "code",
   "execution_count": 31,
   "id": "1e97c377",
   "metadata": {},
   "outputs": [],
   "source": [
    "# Convert 'Gender' column to numerical values\n",
    "train = pd.get_dummies(train, columns=['Gender'])\n",
    "train = pd.get_dummies(train, columns=['Ever_Married'])\n",
    "train = pd.get_dummies(train, columns=['Graduated'])\n",
    "train = pd.get_dummies(train, columns=['Profession'])\n",
    "train = pd.get_dummies(train, columns=['Spending_Score'])\n",
    "train = pd.get_dummies(train, columns=['Var_1'])\n",
    "               \n",
    "test = pd.get_dummies(test, columns=['Gender'])\n",
    "test = pd.get_dummies(test, columns=['Ever_Married'])\n",
    "test = pd.get_dummies(test, columns=['Graduated'])\n",
    "test = pd.get_dummies(test, columns=['Profession'])\n",
    "test = pd.get_dummies(test, columns=['Spending_Score'])\n",
    "test = pd.get_dummies(test, columns=['Var_1'])"
   ]
  },
  {
   "cell_type": "markdown",
   "id": "b334c8af",
   "metadata": {},
   "source": [
    "### Split data"
   ]
  },
  {
   "cell_type": "code",
   "execution_count": 32,
   "id": "5ca8aefe",
   "metadata": {},
   "outputs": [],
   "source": [
    "import numpy as np\n",
    "\n",
    "x_train = np.asarray(train.drop(\"Segmentation\", axis=1))\n",
    "y_train = np.asarray(train['Segmentation'])\n",
    "\n",
    "x_test = np.asarray(test.drop(\"Segmentation\", axis=1))\n",
    "y_test = np.asarray(test['Segmentation'])"
   ]
  },
  {
   "cell_type": "markdown",
   "id": "de77b0ef",
   "metadata": {},
   "source": [
    "### Machine learning"
   ]
  },
  {
   "cell_type": "markdown",
   "id": "43f8c5cd",
   "metadata": {},
   "source": [
    "#### LogisticRegression"
   ]
  },
  {
   "cell_type": "code",
   "execution_count": 33,
   "id": "05a5f907",
   "metadata": {},
   "outputs": [
    {
     "data": {
      "text/plain": [
       "LogisticRegression(max_iter=1000)"
      ]
     },
     "execution_count": 33,
     "metadata": {},
     "output_type": "execute_result"
    }
   ],
   "source": [
    "from sklearn import linear_model\n",
    "from sklearn.model_selection import cross_val_score\n",
    "\n",
    "# Định nghĩa mô hình\n",
    "model = linear_model.LogisticRegression(max_iter=1000)\n",
    "\n",
    "# Huấn luyện mô hình trên tập huấn luyện\n",
    "model.fit(x_train, y_train)"
   ]
  },
  {
   "cell_type": "code",
   "execution_count": 34,
   "id": "b5133987",
   "metadata": {},
   "outputs": [
    {
     "name": "stdout",
     "output_type": "stream",
     "text": [
      "Accuracy: 0.3222647935291613\n"
     ]
    }
   ],
   "source": [
    "from sklearn.metrics import accuracy_score, precision_score, recall_score, f1_score\n",
    "\n",
    "# Predict on test set\n",
    "y_pred = model.predict(x_test)\n",
    "\n",
    "# Calculate evaluation metrics\n",
    "acc = accuracy_score(y_test, y_pred)\n",
    "\n",
    "print('Accuracy:', acc)"
   ]
  },
  {
   "cell_type": "markdown",
   "id": "a311aa28",
   "metadata": {},
   "source": [
    "#### K-Nearest Neighbors"
   ]
  },
  {
   "cell_type": "code",
   "execution_count": 35,
   "id": "c787754b",
   "metadata": {},
   "outputs": [
    {
     "name": "stdout",
     "output_type": "stream",
     "text": [
      "The optimal number of neighbors is 49\n",
      "0.4567489114658926\n"
     ]
    }
   ],
   "source": [
    "from sklearn.neighbors import KNeighborsClassifier\n",
    "k = 49\n",
    "knn = KNeighborsClassifier(n_neighbors=k)\n",
    "score = cross_val_score(knn, x_train, y_train, cv=10, scoring='accuracy').mean()\n",
    "\n",
    "print(f\"The optimal number of neighbors is {k}\")\n",
    "print(score)"
   ]
  },
  {
   "cell_type": "markdown",
   "id": "b8671df5",
   "metadata": {},
   "source": [
    "#### Support Vector Machines (SVM)"
   ]
  },
  {
   "cell_type": "code",
   "execution_count": 36,
   "id": "7ef87dd7",
   "metadata": {},
   "outputs": [
    {
     "name": "stdout",
     "output_type": "stream",
     "text": [
      "0.47735849056603785\n"
     ]
    }
   ],
   "source": [
    "from sklearn import svm\n",
    "\n",
    "linear_svm = svm.SVC(kernel='linear')\n",
    "linear_svm_score = cross_val_score(linear_svm, x_train, y_train, cv=10, scoring='accuracy').mean()\n",
    "print(linear_svm_score)"
   ]
  },
  {
   "cell_type": "markdown",
   "id": "71973c3f",
   "metadata": {},
   "source": [
    "#### Linear and RBF Kernels"
   ]
  },
  {
   "cell_type": "code",
   "execution_count": 37,
   "id": "158a8e5c",
   "metadata": {},
   "outputs": [
    {
     "name": "stdout",
     "output_type": "stream",
     "text": [
      "0.4404934687953556\n"
     ]
    }
   ],
   "source": [
    "rbf = svm.SVC(kernel='rbf')\n",
    "rbf_score = cross_val_score(rbf, x_train, y_train, cv=10, scoring='accuracy').mean()\n",
    "print(rbf_score)"
   ]
  },
  {
   "cell_type": "code",
   "execution_count": null,
   "id": "b9a42767",
   "metadata": {},
   "outputs": [],
   "source": []
  }
 ],
 "metadata": {
  "kernelspec": {
   "display_name": "Python 3 (ipykernel)",
   "language": "python",
   "name": "python3"
  },
  "language_info": {
   "codemirror_mode": {
    "name": "ipython",
    "version": 3
   },
   "file_extension": ".py",
   "mimetype": "text/x-python",
   "name": "python",
   "nbconvert_exporter": "python",
   "pygments_lexer": "ipython3",
   "version": "3.9.12"
  }
 },
 "nbformat": 4,
 "nbformat_minor": 5
}
